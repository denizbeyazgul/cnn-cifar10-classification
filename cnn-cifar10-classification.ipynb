{
 "cells": [
  {
   "cell_type": "code",
   "execution_count": 1,
   "id": "dfa820c7-1f82-413e-97eb-f5f1d824ad40",
   "metadata": {},
   "outputs": [
    {
     "name": "stdout",
     "output_type": "stream",
     "text": [
      "Requirement already satisfied: lightning-utilities in /Users/denizbeyazgul/anaconda3/lib/python3.11/site-packages (0.14.2)\n",
      "Requirement already satisfied: packaging>=17.1 in /Users/denizbeyazgul/anaconda3/lib/python3.11/site-packages (from lightning-utilities) (23.1)\n",
      "Requirement already satisfied: setuptools in /Users/denizbeyazgul/anaconda3/lib/python3.11/site-packages (from lightning-utilities) (67.8.0)\n",
      "Requirement already satisfied: typing_extensions in /Users/denizbeyazgul/anaconda3/lib/python3.11/site-packages (from lightning-utilities) (4.12.2)\n",
      "Requirement already satisfied: torchmetrics in /Users/denizbeyazgul/anaconda3/lib/python3.11/site-packages (1.7.0)\n",
      "Requirement already satisfied: torchvision in /Users/denizbeyazgul/anaconda3/lib/python3.11/site-packages (0.21.0)\n",
      "Requirement already satisfied: numpy in /Users/denizbeyazgul/anaconda3/lib/python3.11/site-packages (from torchvision) (1.26.2)\n",
      "Requirement already satisfied: torch==2.6.0 in /Users/denizbeyazgul/anaconda3/lib/python3.11/site-packages (from torchvision) (2.6.0)\n",
      "Requirement already satisfied: pillow!=8.3.*,>=5.3.0 in /Users/denizbeyazgul/anaconda3/lib/python3.11/site-packages (from torchvision) (10.0.1)\n",
      "Requirement already satisfied: filelock in /Users/denizbeyazgul/anaconda3/lib/python3.11/site-packages (from torch==2.6.0->torchvision) (3.13.1)\n",
      "Requirement already satisfied: typing-extensions>=4.10.0 in /Users/denizbeyazgul/anaconda3/lib/python3.11/site-packages (from torch==2.6.0->torchvision) (4.12.2)\n",
      "Requirement already satisfied: networkx in /Users/denizbeyazgul/anaconda3/lib/python3.11/site-packages (from torch==2.6.0->torchvision) (3.1)\n",
      "Requirement already satisfied: jinja2 in /Users/denizbeyazgul/anaconda3/lib/python3.11/site-packages (from torch==2.6.0->torchvision) (3.1.2)\n",
      "Requirement already satisfied: fsspec in /Users/denizbeyazgul/anaconda3/lib/python3.11/site-packages (from torch==2.6.0->torchvision) (2023.10.0)\n",
      "Requirement already satisfied: sympy==1.13.1 in /Users/denizbeyazgul/anaconda3/lib/python3.11/site-packages (from torch==2.6.0->torchvision) (1.13.1)\n",
      "Requirement already satisfied: mpmath<1.4,>=1.1.0 in /Users/denizbeyazgul/anaconda3/lib/python3.11/site-packages (from sympy==1.13.1->torch==2.6.0->torchvision) (1.3.0)\n",
      "Requirement already satisfied: MarkupSafe>=2.0 in /Users/denizbeyazgul/anaconda3/lib/python3.11/site-packages (from jinja2->torch==2.6.0->torchvision) (2.1.3)\n",
      "Collecting torchinfo\n",
      "  Downloading torchinfo-1.8.0-py3-none-any.whl (23 kB)\n",
      "Installing collected packages: torchinfo\n",
      "Successfully installed torchinfo-1.8.0\n"
     ]
    }
   ],
   "source": [
    "# 1- Install the torchmetrics package for storing loss, evaluation metrics. etc\n",
    "\n",
    "!pip install lightning-utilities\n",
    "!pip install torchmetrics --no-deps\n",
    "!pip install torchvision\n",
    "!pip install torchinfo --no-deps"
   ]
  },
  {
   "cell_type": "code",
   "execution_count": 1,
   "id": "aa312cff-11b9-427f-adcc-3ae561ef0e82",
   "metadata": {},
   "outputs": [],
   "source": [
    "import numpy as np\n",
    "import pandas as pd\n",
    "import matplotlib.pyplot as plt\n",
    "import seaborn as sns\n",
    "import torch\n",
    "import torch.nn as nn\n",
    "import torchvision\n",
    "from torchvision import transforms  \n",
    "from torchmetrics import MeanMetric, Accuracy\n",
    "from torchmetrics import ConfusionMatrix, Accuracy, Precision, Recall, F1Score\n",
    "import torch.optim as optim"
   ]
  },
  {
   "cell_type": "code",
   "execution_count": 3,
   "id": "84a21677-8839-45ec-87e9-64da13ba38b9",
   "metadata": {},
   "outputs": [],
   "source": [
    "from torchvision.transforms import v2"
   ]
  },
  {
   "cell_type": "code",
   "execution_count": 5,
   "id": "2cdfdd57-97c0-4a2a-b5f6-1f46afc9ea9c",
   "metadata": {},
   "outputs": [],
   "source": [
    "# 2- Define transforms - (Data Augmentation)\n",
    "\n",
    "train_transform = transforms.Compose([\n",
    "    transforms.RandomHorizontalFlip(),\n",
    "    transforms.RandomCrop(32, padding=4),\n",
    "    transforms.ToTensor(),\n",
    "])\n",
    "\n",
    "test_transform = transforms.ToTensor()"
   ]
  },
  {
   "cell_type": "code",
   "execution_count": 7,
   "id": "0978b152-8951-4d21-a5d0-da057df5dd66",
   "metadata": {},
   "outputs": [],
   "source": [
    "# 3- Obtain the CIFAR10 dataset for the training data part with 50,000 images\n",
    "\n",
    "train_data = torchvision.datasets.CIFAR10(root= \"./data\" , train = True, download = True, transform=train_transform)\n",
    "\n",
    "\n",
    "\n",
    "# Obtain the CIFAR10 dataset for the testing data part with 10,000 images\n",
    "\n",
    "test_data = torchvision.datasets.CIFAR10(root= \"./data\" , train = False, download = True, transform=test_transform)"
   ]
  },
  {
   "cell_type": "code",
   "execution_count": 9,
   "id": "67f269fe-d6ed-4ded-8d00-af7dd4b332d1",
   "metadata": {},
   "outputs": [
    {
     "name": "stdout",
     "output_type": "stream",
     "text": [
      "number of train samples: 40000\n",
      "number of validation samples: 10000\n",
      "number of test samples: 10000\n"
     ]
    }
   ],
   "source": [
    "# 4- Perform train, validation, and test split.\n",
    "\n",
    "train_set, val_set = torch.utils.data.random_split(train_data, [40000, 10000])\n",
    "\n",
    "# Apply test_transform to validation set as well\n",
    "\n",
    "val_set.dataset.transform = test_transform\n",
    "print(\"number of train samples:\", len(train_set))\n",
    "print(\"number of validation samples:\", len(val_set))\n",
    "print(\"number of test samples:\", len(test_data))"
   ]
  },
  {
   "cell_type": "code",
   "execution_count": 11,
   "id": "2068e0e2-77c4-4a19-8595-28480b50539b",
   "metadata": {},
   "outputs": [],
   "source": [
    "# 5- Prepare for mini-batch data loading using DataLoader.\n",
    "\n",
    "train_dataloader = torch.utils.data.DataLoader(train_set, batch_size=256, shuffle=True)\n",
    "val_dataloader = torch.utils.data.DataLoader(val_set, batch_size=256, shuffle=False)\n",
    "test_dataloader = torch.utils.data.DataLoader(test_data, batch_size=256, shuffle=False)\n"
   ]
  },
  {
   "cell_type": "code",
   "execution_count": 13,
   "id": "33f1651b-6d31-41d9-b188-11688966a7e7",
   "metadata": {},
   "outputs": [],
   "source": [
    "# 6- Build a convolutional neural network (CNN) model.\n",
    "\n",
    "model = nn.Sequential(\n",
    "    nn.LazyConv2d(32, kernel_size=3, stride=1, padding=1),\n",
    "    nn.ReLU(),\n",
    "    nn.MaxPool2d(kernel_size=2),\n",
    "    nn.LazyConv2d(64, kernel_size=3, stride=1, padding=1),\n",
    "    nn.ReLU(),\n",
    "    nn.MaxPool2d(kernel_size=2),\n",
    "    nn.Flatten(),\n",
    "    nn.LazyLinear(512),\n",
    "    nn.ReLU(),\n",
    "    nn.LazyLinear(256),\n",
    "    nn.ReLU(),\n",
    "    nn.LazyLinear(10),\n",
    ")"
   ]
  },
  {
   "cell_type": "code",
   "execution_count": 15,
   "id": "481cca23-b656-4c4a-8f52-cb0fa8b02940",
   "metadata": {},
   "outputs": [],
   "source": [
    "# 7- Move the model to device\n",
    "\n",
    "device = torch.device(\"cuda\" if torch.cuda.is_available() else \"cpu\")\n",
    "model = model.to(device)"
   ]
  },
  {
   "cell_type": "code",
   "execution_count": 17,
   "id": "f61879e4-089f-4aac-9ed5-d91fdf113410",
   "metadata": {},
   "outputs": [],
   "source": [
    "# 8- Set the loss function as the cross entropy (CE) loss\n",
    "\n",
    "criteria = torch.nn.CrossEntropyLoss()"
   ]
  },
  {
   "cell_type": "code",
   "execution_count": 19,
   "id": "0c5811d5-6a71-4114-b05b-0a8e3b9576e2",
   "metadata": {},
   "outputs": [],
   "source": [
    "# 9- Set the optimizer to stochastic gradient descent (SGD)\n",
    "\n",
    "optimizer = optim.Adam(model.parameters(), lr=0.001)"
   ]
  },
  {
   "cell_type": "code",
   "execution_count": 21,
   "id": "27b2d0db-cad8-4ce1-b402-3854c1399c66",
   "metadata": {},
   "outputs": [],
   "source": [
    "# 11- Perform training and evaluation, and loss and accuracy.\n",
    "\n",
    "def train_one_epoch():\n",
    "  # Prepare for storing loss and accuracy\n",
    "  losses = MeanMetric().to(device)\n",
    "  acc = Accuracy(task='multiclass', num_classes=10).to(device)\n",
    "  model.train() # set model to train mode\n",
    "  # a loop to iterate input(X) and label(Y) for all mini-batches\n",
    "  for X, Y in train_dataloader:\n",
    "    X = X.to(device) # move input (X) to GPU device\n",
    "    Y = Y.to(device) # move disired output (Y) to GPU device\n",
    "    optimizer.zero_grad() # reset optimizer\n",
    "    preds = model(X) # model forward\n",
    "    loss = criteria(preds, Y) # calculate loss\n",
    "    loss.backward() # compute gradients via backpropagation\n",
    "    optimizer.step() # perform gradient descent\n",
    "    preds = preds.argmax(dim=1) # obtain the final predicted class\n",
    "    losses.update(loss, X.size(0)) # store loss per batch\n",
    "    acc.update(preds, Y) # store accuracy per batch\n",
    "  # return loss and accuracy for the epoch\n",
    "  return losses.compute().item(), acc.compute().item()\n",
    "\n"
   ]
  },
  {
   "cell_type": "code",
   "execution_count": 23,
   "id": "fe1cdb97-8eb5-40c5-9023-b6142612e3ce",
   "metadata": {},
   "outputs": [],
   "source": [
    "# a function for validation one epoch\n",
    "def validation_one_epoch():\n",
    "  # Prepare for storing loss and accuracy\n",
    "  losses = MeanMetric().to(device)\n",
    "  acc = Accuracy(task='multiclass', num_classes=10).to(device)\n",
    "  model.eval() # set model to validation mode\n",
    "  # a loop to iterate input(X) and label(Y) for all mini-batches\n",
    "  for X, Y in val_dataloader:\n",
    "    X = X.to(device) # move input (X) to GPU device\n",
    "    Y = Y.to(device) # move disired output (Y) to GPU device\n",
    "    preds = model(X) # model forward\n",
    "    loss = criteria(preds, Y) # calculate loss\n",
    "    preds = preds.argmax(dim=1) # obtain the final predicted class\n",
    "    losses.update(loss, X.size(0)) # store loss per batch\n",
    "    acc.update(preds, Y) # store accuracy per batch\n",
    "    # return loss and accuracy for the epoch\n",
    "  return losses.compute().item(), acc.compute().item()"
   ]
  },
  {
   "cell_type": "code",
   "execution_count": 25,
   "id": "a0860909-2759-4847-936e-a5ac39c5c418",
   "metadata": {},
   "outputs": [],
   "source": [
    "# Prepare for storing loss and accuracy\n",
    "history = pd.DataFrame() # store statics for each epoch\n"
   ]
  },
  {
   "cell_type": "code",
   "execution_count": 27,
   "id": "974eef53-ced9-4109-a215-3b048847bbb2",
   "metadata": {},
   "outputs": [
    {
     "name": "stdout",
     "output_type": "stream",
     "text": [
      "Epoch: 0 | Train Loss: 1.7168941497802734 | Train Accuracy 0.3727250099182129 | Validation Loss 1.480593204498291 | Validation Accuracy 0.45559999346733093\n",
      "Epoch: 1 | Train Loss: 1.3063139915466309 | Train Accuracy 0.5300750136375427 | Validation Loss 1.2676618099212646 | Validation Accuracy 0.5432999730110168\n",
      "Epoch: 2 | Train Loss: 1.1243631839752197 | Train Accuracy 0.5982499718666077 | Validation Loss 1.0925322771072388 | Validation Accuracy 0.6100999712944031\n",
      "Epoch: 3 | Train Loss: 0.9857780337333679 | Train Accuracy 0.6517999768257141 | Validation Loss 1.062186598777771 | Validation Accuracy 0.619700014591217\n",
      "Epoch: 4 | Train Loss: 0.8935702443122864 | Train Accuracy 0.6844750046730042 | Validation Loss 0.967049241065979 | Validation Accuracy 0.6553999781608582\n",
      "Epoch: 5 | Train Loss: 0.8024008870124817 | Train Accuracy 0.7160999774932861 | Validation Loss 0.9187069535255432 | Validation Accuracy 0.6765000224113464\n",
      "Epoch: 6 | Train Loss: 0.7158095240592957 | Train Accuracy 0.7486500144004822 | Validation Loss 0.8886773586273193 | Validation Accuracy 0.6908000111579895\n",
      "Epoch: 7 | Train Loss: 0.6220545172691345 | Train Accuracy 0.7831249833106995 | Validation Loss 0.8890122175216675 | Validation Accuracy 0.7009999752044678\n",
      "Epoch: 8 | Train Loss: 0.5447646379470825 | Train Accuracy 0.8094249963760376 | Validation Loss 0.8928453922271729 | Validation Accuracy 0.7003999948501587\n",
      "Epoch: 9 | Train Loss: 0.4465147852897644 | Train Accuracy 0.8464000225067139 | Validation Loss 0.9511383771896362 | Validation Accuracy 0.6931999921798706\n"
     ]
    }
   ],
   "source": [
    "epochs = 10 # number of epochs\n",
    "\n",
    "# a loop for epochs\n",
    "\n",
    "for i in range(0, epochs):\n",
    "  train_loss, train_acc = train_one_epoch() # training\n",
    "  val_loss, val_acc = validation_one_epoch() # validation\n",
    "  print(\"Epoch:\", i, \"| Train Loss:\", train_loss, \"| Train Accuracy\", train_acc, \"| Validation Loss\", val_loss, \"| Validation Accuracy\", val_acc)\n",
    "  statistics = pd.DataFrame({\n",
    "  \"epoch\": [i], \"train_loss\": [train_loss],\n",
    "  \"train_acc\": [train_acc],\n",
    "  \"val_loss\": [val_loss],\n",
    "  \"val_acc\": [val_acc]})\n",
    "  history = pd.concat([history, statistics], ignore_index=True)"
   ]
  },
  {
   "cell_type": "code",
   "execution_count": null,
   "id": "d0822a0a-c333-46ec-b6bc-0e1c4af003dc",
   "metadata": {},
   "outputs": [],
   "source": []
  },
  {
   "cell_type": "code",
   "execution_count": 29,
   "id": "12af3208-24a0-45b4-9f05-0ff8f39f2d20",
   "metadata": {},
   "outputs": [
    {
     "data": {
      "image/png": "[encoded data removed]",
      "text/plain": [
       "<Figure size 800x300 with 2 Axes>"
      ]
     },
     "metadata": {},
     "output_type": "display_data"
    }
   ],
   "source": [
    "# Create a figure with two subplots (side by side)\n",
    "plt.figure(figsize=(8, 3))\n",
    "# Plot Loss Curve (Train + Validation)\n",
    "plt.subplot(1, 2, 1) # 1 row, 2 columns, first plot\n",
    "plt.plot(history[\"epoch\"], history[\"train_loss\"], label=\"Train\",\n",
    "color=\"blue\")\n",
    "plt.plot(history[\"epoch\"], history[\"val_loss\"], label=\"Validation\",\n",
    "color=\"red\")\n",
    "plt.xlabel(\"Epochs\")\n",
    "plt.ylabel(\"Loss\")\n",
    "plt.legend()\n",
    "plt.grid(True)\n",
    "# Plot Accuracy Curve (Train + Validation)\n",
    "plt.subplot(1, 2, 2) # 1 row, 2 columns, second plot\n",
    "plt.plot(history[\"epoch\"], history[\"train_acc\"], label=\"Train\",\n",
    "color=\"blue\")\n",
    "plt.plot(history[\"epoch\"], history[\"val_acc\"], label=\"Validation\",\n",
    "color=\"red\")\n",
    "plt.xlabel(\"Epochs\")\n",
    "plt.ylabel(\"Accuracy\")\n",
    "plt.legend()\n",
    "plt.grid(True)\n",
    "# Adjust layout and show the plots\n",
    "plt.tight_layout()\n",
    "plt.show()"
   ]
  },
  {
   "cell_type": "code",
   "execution_count": null,
   "id": "61ffc289-2b28-4591-a17f-52a343417228",
   "metadata": {},
   "outputs": [],
   "source": []
  }
 ],
 "metadata": {
  "kernelspec": {
   "display_name": "Python 3 (ipykernel)",
   "language": "python",
   "name": "python3"
  },
  "language_info": {
   "codemirror_mode": {
    "name": "ipython",
    "version": 3
   },
   "file_extension": ".py",
   "mimetype": "text/x-python",
   "name": "python",
   "nbconvert_exporter": "python",
   "pygments_lexer": "ipython3",
   "version": "3.11.5"
  }
 },
 "nbformat": 4,
 "nbformat_minor": 5
}
